{
 "cells": [
  {
   "cell_type": "markdown",
   "metadata": {
    "id": "HIUthjpweJLE"
   },
   "source": [
    "## RLC Series Ciruit:\n",
    "\n",
    "$$V(t) = L*\\frac{di(t)}{dt}+R*i(t)+\\frac{1}{C}\\int i(t)\\: dt$$<br>\n",
    "differentiation on Both sides,<br><br>\n",
    "$$\\frac{dV(t)}{dt}=L*\\frac{d^2i(t)}{dt^2}+R*\\frac{di(t)}{dt}+\\frac{i(t)}{C}$$<br>\n",
    "$$\\frac{d^2i(t)}{dt^2}=-\\frac{R}{L}*\\frac{di(t)}{dt}-\\frac{i(t)}{C*L}+\\frac{1}{L}\\frac{dV(t)}{dt}$$<br><br>\n",
    "Let, \n",
    "* $x_1(t)$ = $i(t)$\n",
    "\n",
    "* $x_2(t)$ = $\\frac{di(t)}{dt}$\n",
    "\n",
    "for simplicity we write $x_n(t)$ as $x_n$  and also $x_n(t_k)$ is represented as $x_{n(k)}$.\n",
    "<br>\n",
    "<br>\n",
    "Now we have,\n",
    "$$f^{(1)}(t,x_1,x_2)=\\frac{dx_1}{dt} = x_2$$<br>\n",
    "$$f^{(2)}(t,x_1,x_2)=\\frac{dx_2}{dt}=-\\frac{R}{L}*x_2-\\frac{x_1}{C*L}+\\frac{1}{L}\\frac{dV(t)}{dt}$$<br><br>\n",
    "Let initial conditions be,<br>\n",
    "* $i(t_0) = x_1(t_0) = x_{1(0)}$\n",
    "\n",
    "\n",
    "* $\\frac{di(t_0)}{dt} = x_2(t_0) = x_{2(0)}$\n",
    "\n",
    "\n",
    "### Matrix form:\n",
    "$$F(t,x_1,x_2)=\n",
    "\\begin{bmatrix}f^{(1)} \\\\ f^{(2)} \\end{bmatrix}\n",
    "= \\begin{bmatrix}0 & 1 \\\\ \\frac{-1}{C*L} & \\frac{-R}{L} \\end{bmatrix}\n",
    "* \\begin{bmatrix}x_1(t) \\\\ x_2(t) \\end{bmatrix}\n",
    "+ \\begin{bmatrix} 0 \\\\ \\frac{1}{L} \\end{bmatrix}\n",
    "*[\\:\\frac{dV(t)}{dt} ]$$<br>\n",
    "\n",
    "$$F = A*X_k + B*U_k$$<br>\n",
    "where,\n",
    "* $A = \\begin{bmatrix}0 & 1 \\\\ \\frac{-1}{C*L} & \\frac{-R}{L} \\end{bmatrix}$\n",
    "\n",
    "\n",
    "* $X_k= \\begin{bmatrix}x_{1(k)} \\\\ x_{2(k)} \\end{bmatrix}$\n",
    "\n",
    "\n",
    "* $B =  \\begin{bmatrix} 0 \\\\ \\frac{1}{L} \\end{bmatrix}$\n",
    "\n",
    "\n",
    "* $U_k = [\\:\\frac{dV(t)_k}{dt} ]$ \n",
    "\n",
    "\n",
    "and matrix form of inital conditions,<br>\n",
    "$$X_0 = \\begin{bmatrix} x_{1(0)}\\\\ x_{2(0)}\\end{bmatrix}$$\n"
   ]
  },
  {
   "cell_type": "markdown",
   "metadata": {
    "id": "f-Xq716d_7B4"
   },
   "source": [
    "### Forward Euler Method:\n",
    "$$y_{k+1}=y{k}+\\Delta\\:t * f(t,y_k)$$\n",
    "\n",
    "comparing this to above matrix equation we get,\n",
    "\n",
    "$$X_{k+1}=X_{k}+\\Delta\\:t *F(t,X_k)$$\n",
    "\n",
    "which implies,<br>\n",
    "$$X_{k+1} = \\begin{bmatrix}x_{1(k+1)}\\\\x_{2(k+1)}\\end{bmatrix}$$<br>\n",
    "$$X_{k} = \\begin{bmatrix}x_{1(k)}\\\\x_{2(k)}\\end{bmatrix}$$<br>\n",
    "$$F(t,X_k) = F(t,x_1,x_2) = \\begin{bmatrix}f^{(1)} \\\\ f^{(2)} \\end{bmatrix} $$\n",
    "\n",
    "Therefore,<br>\n",
    "$$\\begin{bmatrix}x_{1(k+1)}\\\\x_{2(k+1)}\\end{bmatrix}= \\begin{bmatrix}x_{1(k)}\\\\x_{2(k)}\\end{bmatrix}+ \\Delta\\:t* \\begin{bmatrix}f^{(1)} \\\\ f^{(2)} \\end{bmatrix}$$\n"
   ]
  },
  {
   "cell_type": "code",
   "execution_count": 1,
   "metadata": {
    "id": "S0EriDS7NOCm"
   },
   "outputs": [],
   "source": [
    "import numpy as np\n",
    "import matplotlib.pyplot as plt\n",
    "%matplotlib inline"
   ]
  },
  {
   "cell_type": "code",
   "execution_count": 2,
   "metadata": {
    "id": "2S92Lz7kNzDn"
   },
   "outputs": [],
   "source": [
    "def ut(t):\n",
    "    b = 0.5e-3\n",
    "    v = np.heaviside(t-b,0.9)\n",
    "    return v"
   ]
  },
  {
   "cell_type": "code",
   "execution_count": 3,
   "metadata": {
    "id": "ZwvYeV5nNUYy"
   },
   "outputs": [],
   "source": [
    "# time \n",
    "t0 = 0 \n",
    "tend = 2e-3\n",
    "n = int(1001)\n",
    "time = np.linspace(t0, tend, n+1)\n",
    "dt = abs(t0-tend)/n"
   ]
  },
  {
   "cell_type": "code",
   "execution_count": 4,
   "metadata": {
    "id": "Fr5ifT1IGl8X"
   },
   "outputs": [],
   "source": [
    "def F(t,A,X0,B,Uin_at_k):\n",
    "    A = np.asarray(A)\n",
    "    X0 = np.asarray(X0)\n",
    "    B = np.asarray(B)\n",
    "    U = np.array(Uin_at_k)\n",
    "    return A.dot(X0)+B.dot(U)"
   ]
  },
  {
   "cell_type": "code",
   "execution_count": 5,
   "metadata": {
    "id": "FnEf9g5NSP3c"
   },
   "outputs": [],
   "source": [
    "# defining circuit parameters\n",
    "R = 10\n",
    "L = 1e-3\n",
    "C = 2e-6\n",
    "\n",
    "# forming Matrix parameters\n",
    "A = np.array([\n",
    "              [0, 1],\n",
    "              [(-1/(C*L)), (-R/L)]\n",
    "])\n",
    "\n",
    "B = np.array([\n",
    "              [0],\n",
    "              [(1/L)]\n",
    "])\n",
    "\n",
    "X0 = np.array([\n",
    "               [0],\n",
    "               [0]\n",
    "])\n",
    "\n",
    "# defining input\n",
    "Uin0 = ut(time) #V(t) np.sin(2*np.pi*1e3*time)#\n",
    "Uin = Uin0[1:] - Uin0[:-1]\n",
    "Uin = np.insert(Uin,0,Uin[0])/dt #dV(t)/dt"
   ]
  },
  {
   "cell_type": "code",
   "execution_count": 6,
   "metadata": {
    "id": "l2lX-MH7TvSU"
   },
   "outputs": [],
   "source": [
    "Xsln = np.zeros(\n",
    "    (len(X0[:,0]) ,\n",
    "     len(time))\n",
    ")\n",
    "X_0 = X0\n",
    "for i in range(len(time)):\n",
    "    tmp = X_0 + dt * F(time[i],A,X_0,B,Uin[i])\n",
    "    X_0 = tmp\n",
    "    Xsln[0,i] = tmp[0]\n",
    "    Xsln[1,i] = tmp[1] "
   ]
  },
  {
   "cell_type": "code",
   "execution_count": 7,
   "metadata": {
    "colab": {
     "base_uri": "https://localhost:8080/",
     "height": 371
    },
    "id": "aKFAeukQT-06",
    "outputId": "65c3f215-6942-4cfc-b2c5-b258da93bf94"
   },
   "outputs": [
    {
     "data": {
      "image/png": "[encoded data removed]",
      "text/plain": [
       "<Figure size 1152x360 with 2 Axes>"
      ]
     },
     "metadata": {
      "needs_background": "light"
     },
     "output_type": "display_data"
    }
   ],
   "source": [
    "plt.figure(figsize=(16,5))\n",
    "plt.subplot(122)\n",
    "plt.plot(time*1000,Xsln[0,:],'royalblue',label='Response = i(t)')\n",
    "plt.xlabel('time (ms)')\n",
    "plt.ylabel('Current(A)')\n",
    "plt.grid(1)\n",
    "plt.legend(loc=\"best\")\n",
    "plt.subplot(121)\n",
    "plt.plot(time*1000,Uin0,'orangered',label = 'input = V(t)')\n",
    "plt.ylabel('Volage(V)')\n",
    "plt.xlabel('time (ms)')\n",
    "plt.grid(1)\n",
    "plt.legend(loc=\"best\")\n",
    "plt.tight_layout(pad=1);"
   ]
  }
 ],
 "metadata": {
  "colab": {
   "collapsed_sections": [],
   "name": "2ndOrderEul.ipynb",
   "provenance": []
  },
  "kernelspec": {
   "display_name": "Python 3",
   "language": "python",
   "name": "python3"
  },
  "language_info": {
   "codemirror_mode": {
    "name": "ipython",
    "version": 3
   },
   "file_extension": ".py",
   "mimetype": "text/x-python",
   "name": "python",
   "nbconvert_exporter": "python",
   "pygments_lexer": "ipython3",
   "version": "3.8.3"
  }
 },
 "nbformat": 4,
 "nbformat_minor": 4
}
